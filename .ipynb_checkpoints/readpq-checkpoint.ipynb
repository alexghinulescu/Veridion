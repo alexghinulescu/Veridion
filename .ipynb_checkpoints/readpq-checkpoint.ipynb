{
 "cells": [
  {
   "cell_type": "code",
   "execution_count": null,
   "metadata": {
    "collapsed": true
   },
   "outputs": [],
   "source": [
    "import pyarrow.parquet as pq\n",
    "import pandas as pd\n"
   ]
  },
  {
   "cell_type": "code",
   "execution_count": null,
   "outputs": [],
   "source": [
    "df_paraquet = pd.read_parquet('data/veridion_product_deduplication_challenge.snappy.parquet')\n",
    "df_csv = pd.read_csv('data/veridion_product_deduplication_challenge.snappy.csv')\n",
    "complete_grain_free = df_paraquet[df_paraquet['product_title'] == 'Complete Grain Free Pate with Salmon for Adult Cat']\n"
   ],
   "metadata": {
    "collapsed": false,
    "pycharm": {
     "name": "#%%\n"
    }
   }
  },
  {
   "cell_type": "code",
   "execution_count": null,
   "outputs": [],
   "source": [
    "# Setăm opțiunile Pandas pentru a afișa toate coloanele\n",
    "pd.set_option('display.max_columns', None)  # Afișează toate coloanele\n",
    "pd.set_option('display.max_rows', None)     # Afișează toate rândurile, în cazul în care sunt mai multe\n",
    "# Afișează produsele cu 'product_title' \"Complete Grain Free Pate with Salmon for Adult Cat\"\n",
    "print(\"Produse cu titlul 'Complete Grain Free Pate with Salmon for Adult Cat':\")\n",
    "print(complete_grain_free)\n",
    "print(complete_grain_free['product_identifier'].to_list())\n"
   ],
   "metadata": {
    "collapsed": false,
    "pycharm": {
     "name": "#%%\n"
    }
   }
  }
 ],
 "metadata": {
  "kernelspec": {
   "display_name": "Python 3",
   "language": "python",
   "name": "python3"
  },
  "language_info": {
   "codemirror_mode": {
    "name": "ipython",
    "version": 2
   },
   "file_extension": ".py",
   "mimetype": "text/x-python",
   "name": "python",
   "nbconvert_exporter": "python",
   "pygments_lexer": "ipython2",
   "version": "2.7.6"
  }
 },
 "nbformat": 4,
 "nbformat_minor": 0
}